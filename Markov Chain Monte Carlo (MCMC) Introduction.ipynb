{
 "cells": [
  {
   "cell_type": "markdown",
   "metadata": {},
   "source": [
    "# Markov Chain Monte Carlo (MCMC) Introduction\n",
    "MCMC is used to sample from complex probability distributions. Sampling from a simple distribution like the uniform $U(0,1)$ is easy enough using pseudorandom number generators, but things get harder for more complex distributions.\n",
    "\n",
    "For more complex distributions, such as the normal, more complex, but still relatively simple, approaches like the inverse transform can be used to perform samplgin , provided the CDF can be calculated in close form.\n",
    "\n",
    "For an even more complex distribution, $p(x)$, the CDF cannot be calculated, and a more sophisticated algorithm must be used. To obtain sample $x$ from $p(x)$, Monte Carlo is used."
   ]
  },
  {
   "cell_type": "markdown",
   "metadata": {},
   "source": [
    "## Metropolis-Hastings (MH)\n",
    "The *Metropolis-Hastings* (MH) algorithm is the populat MCMC method. It starts with a point $x$ on the target distribution $p(x)$, whose form is known. A proposal value $x^*$ is obtained by sampling from the proposal distribution $q(x^*|x), which depends on the current value $x$. The proposal $x^*$ is \"accepted\" as a sample with probability:"
   ]
  },
  {
   "cell_type": "markdown",
   "metadata": {},
   "source": [
    "$$A(x,x^*) = min \\left\\{1, \\frac{p(x^*)q(x|x^*)}{p(x)q(x^*|x)}\\right\\}$$"
   ]
  },
  {
   "cell_type": "markdown",
   "metadata": {},
   "source": [
    "If the proposal is rejected, then the current value $x$ is used as the sample again. The final list of values, from $x$'s and $x^*$'s, will be distributed according to $p(x)$."
   ]
  },
  {
   "cell_type": "markdown",
   "metadata": {},
   "source": [
    "The pseudo-code is shown below:"
   ]
  },
  {
   "cell_type": "markdown",
   "metadata": {},
   "source": [
    "1. Initialize $x_0$\n",
    "2. For $i = 0$ to $N-1$\n",
    "    * Sample $x^*$ ~ $q(x^*|x_i)$\n",
    "    * Sample $u$ ~ $U(0,1)$\n",
    "    * **If**: $u < A(x_i,x^*) = min \\left\\{1, \\frac{p(x^*)q(x_i|x^*)}{p(x_i)q(x^*|x_i)}\\right\\}$  \n",
    "    $x_{i+1} = x^*$  \n",
    "    **else**:  \n",
    "    $x_{i+1} = x_i$"
   ]
  },
  {
   "cell_type": "markdown",
   "metadata": {},
   "source": [
    "This algorithm results in $N$ samples from the target distribution $p(x)$. The values jumps around, guided by the proposal distribution and the acceptance probability, and the sample eventually converge to the desired distribution.\n",
    "\n",
    "Note that the proposal distribution depends only on the current state $x$, and none before. Since the probability of the next step only depends on the current state, the sequence forms a Markov Chain."
   ]
  },
  {
   "cell_type": "markdown",
   "metadata": {},
   "source": [
    "### Technical Note\n",
    "Without getting too deep into the theory, MCMC aims to find a Markov Chain whose stationary distribution is the distribution we need to sample from. This requires care selection of the proposal distribution $q(x)$, but detailed discusssion is beyond our scoep, and we'll show an example instead."
   ]
  },
  {
   "cell_type": "markdown",
   "metadata": {},
   "source": [
    "## Example\n",
    "We will use MH to sample from the distribution $p(x) = 0.3e^{-0.2x^2}+0.7e^{-0.2(x-10)^2}$. This is plotted below to give a sense of its shape:"
   ]
  },
  {
   "cell_type": "code",
   "execution_count": 37,
   "metadata": {
    "collapsed": true
   },
   "outputs": [],
   "source": [
    "import numpy as np\n",
    "import matplotlib.pyplot as plt\n",
    "import time\n",
    "%matplotlib inline"
   ]
  },
  {
   "cell_type": "code",
   "execution_count": 38,
   "metadata": {
    "collapsed": true
   },
   "outputs": [],
   "source": [
    "# define the pdf\n",
    "p = lambda x: 0.3*np.exp(-0.2*x**2)+0.7*np.exp(-0.2*(x-10)**2)"
   ]
  },
  {
   "cell_type": "code",
   "execution_count": 39,
   "metadata": {},
   "outputs": [
    {
     "data": {
      "text/plain": [
       "Text(0,0.5,'p(x)')"
      ]
     },
     "execution_count": 39,
     "metadata": {},
     "output_type": "execute_result"
    },
    {
     "data": {
      "image/png": "[encoded data removed]",
      "text/plain": [
       "<matplotlib.figure.Figure at 0x115c680f0>"
      ]
     },
     "metadata": {},
     "output_type": "display_data"
    }
   ],
   "source": [
    "# plot the target distribution\n",
    "x_1 = np.linspace(-10,20,100)\n",
    "\n",
    "# normalization constant, calculated using Wolfram Alpha\n",
    "Z = 4\n",
    "\n",
    "plt.plot(x_1,p(x_1)/4)\n",
    "plt.xlabel('x')\n",
    "plt.ylabel('p(x)')"
   ]
  },
  {
   "cell_type": "markdown",
   "metadata": {},
   "source": [
    "Now that we have a sense of the target distribution, let's look at the proposal distribution $w(x)$. In this example we'll use a Gaussian: $q(x^*|x) = N(x^*,\\sigma^2)$ where $\\sigma = 10$."
   ]
  },
  {
   "cell_type": "code",
   "execution_count": 40,
   "metadata": {
    "collapsed": true
   },
   "outputs": [],
   "source": [
    "# proposal distribution pdf\n",
    "sigma = 10\n",
    "q = lambda x, x_s: (1/(2*np.pi*sigma**2)**0.5)*np.exp(-(x_s-x)**2/(2*sigma**2))\n",
    "\n",
    "# sample from the proposal distribution\n",
    "q_sample = lambda x: np.random.normal(loc=x, scale=sigma)"
   ]
  },
  {
   "cell_type": "markdown",
   "metadata": {},
   "source": [
    "Now let's define the acceptance probability $A(x,x^*)$"
   ]
  },
  {
   "cell_type": "code",
   "execution_count": 41,
   "metadata": {
    "collapsed": true
   },
   "outputs": [],
   "source": [
    "# Acceptance probability\n",
    "A = lambda x, x_s: min(1,((p(x_s)*q(x_s,x))/(p(x)*q(x,x_s))))"
   ]
  },
  {
   "cell_type": "markdown",
   "metadata": {},
   "source": [
    "## Let's run the algorithm"
   ]
  },
  {
   "cell_type": "code",
   "execution_count": 42,
   "metadata": {
    "collapsed": true
   },
   "outputs": [],
   "source": [
    "# number of samples\n",
    "N = 10000\n",
    "\n",
    "# initialize the sample\n",
    "x = np.zeros(N)"
   ]
  },
  {
   "cell_type": "code",
   "execution_count": 43,
   "metadata": {},
   "outputs": [
    {
     "name": "stdout",
     "output_type": "stream",
     "text": [
      "fraction done:, 0.0\n",
      "fraction done:, 0.1\n",
      "fraction done:, 0.2\n",
      "fraction done:, 0.3\n",
      "fraction done:, 0.4\n",
      "fraction done:, 0.5\n",
      "fraction done:, 0.6\n",
      "fraction done:, 0.7\n",
      "fraction done:, 0.8\n",
      "fraction done:, 0.9\n"
     ]
    }
   ],
   "source": [
    "# time the simulation\n",
    "t0 = time.time()\n",
    "\n",
    "# run the MCMC algorithm\n",
    "for i in range(N-1):\n",
    "    \n",
    "    # sample from uniform for the acceptance probability\n",
    "    u = np.random.uniform(low=0, high=1)\n",
    "    \n",
    "    # sample from the proposal distribution\n",
    "    x_s = q_sample(x[i])\n",
    "    \n",
    "    # accept the proposal with probability A\n",
    "    if u < A(x[i], x_s):\n",
    "        x[i+1] = x_s\n",
    "    else:\n",
    "        x[i+1] = x[i]\n",
    "        \n",
    "    # print status updates    \n",
    "    if (i % (N/10)) == 0:\n",
    "        print(\"fraction done:,\", float(i)/N)"
   ]
  },
  {
   "cell_type": "code",
   "execution_count": 36,
   "metadata": {},
   "outputs": [
    {
     "name": "stdout",
     "output_type": "stream",
     "text": [
      "time in seconds: 83.99115800857544\n"
     ]
    },
    {
     "data": {
      "image/png": "[encoded data removed]",
      "text/plain": [
       "<matplotlib.figure.Figure at 0x115c68860>"
      ]
     },
     "metadata": {},
     "output_type": "display_data"
    }
   ],
   "source": [
    "# Plot the resulting samples against the target distribution\n",
    "plt.plot(x_1,p(x_1)/4)\n",
    "weights = np.ones_like(x)/float(len(x))  # normalize the bins\n",
    "plt.hist(x, weights=weights, bins=20)\n",
    "\n",
    "print(\"time in seconds:\", time.time()-t0)"
   ]
  },
  {
   "cell_type": "markdown",
   "metadata": {},
   "source": [
    "As expected, the histogram of the samples approximates the target distribution. The states travel around the target distribution and both modes have been vistited and sampled from."
   ]
  },
  {
   "cell_type": "markdown",
   "metadata": {
    "collapsed": true
   },
   "source": [
    "## References\n",
    "http://www.cs.princeton.edu/courses/archive/spr06/cos598C/papers/AndrieuFreitasDoucetJordan2003.pdf"
   ]
  },
  {
   "cell_type": "code",
   "execution_count": null,
   "metadata": {
    "collapsed": true
   },
   "outputs": [],
   "source": []
  }
 ],
 "metadata": {
  "kernelspec": {
   "display_name": "Python 3",
   "language": "python",
   "name": "python3"
  },
  "language_info": {
   "codemirror_mode": {
    "name": "ipython",
    "version": 3
   },
   "file_extension": ".py",
   "mimetype": "text/x-python",
   "name": "python",
   "nbconvert_exporter": "python",
   "pygments_lexer": "ipython3",
   "version": "3.6.3"
  }
 },
 "nbformat": 4,
 "nbformat_minor": 2
}
